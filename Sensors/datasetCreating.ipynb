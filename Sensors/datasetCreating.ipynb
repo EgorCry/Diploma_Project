{
 "cells": [
  {
   "cell_type": "code",
   "execution_count": 1,
   "id": "71f1886e",
   "metadata": {},
   "outputs": [],
   "source": [
    "import pandas as pd\n",
    "import numpy as np"
   ]
  },
  {
   "cell_type": "code",
   "execution_count": 2,
   "id": "67c6aed1",
   "metadata": {},
   "outputs": [
    {
     "name": "stderr",
     "output_type": "stream",
     "text": [
      "C:\\Temp\\ipykernel_3832\\2233856258.py:1: FutureWarning: The frame.append method is deprecated and will be removed from pandas in a future version. Use pandas.concat instead.\n",
      "  pd.DataFrame({'temperature': 36.6, 'pulse': 102, 'high_pressure': 120, 'low_pressure': 80, 'target': 0}, index=[0]).append({'temperature': 36.6, 'pulse': 102, 'high_pressure': 120, 'low_pressure': 80, 'target': 0}, ignore_index=True)\n"
     ]
    },
    {
     "data": {
      "text/html": [
       "<div>\n",
       "<style scoped>\n",
       "    .dataframe tbody tr th:only-of-type {\n",
       "        vertical-align: middle;\n",
       "    }\n",
       "\n",
       "    .dataframe tbody tr th {\n",
       "        vertical-align: top;\n",
       "    }\n",
       "\n",
       "    .dataframe thead th {\n",
       "        text-align: right;\n",
       "    }\n",
       "</style>\n",
       "<table border=\"1\" class=\"dataframe\">\n",
       "  <thead>\n",
       "    <tr style=\"text-align: right;\">\n",
       "      <th></th>\n",
       "      <th>temperature</th>\n",
       "      <th>pulse</th>\n",
       "      <th>high_pressure</th>\n",
       "      <th>low_pressure</th>\n",
       "      <th>target</th>\n",
       "    </tr>\n",
       "  </thead>\n",
       "  <tbody>\n",
       "    <tr>\n",
       "      <th>0</th>\n",
       "      <td>36.6</td>\n",
       "      <td>102.0</td>\n",
       "      <td>120.0</td>\n",
       "      <td>80.0</td>\n",
       "      <td>0.0</td>\n",
       "    </tr>\n",
       "    <tr>\n",
       "      <th>1</th>\n",
       "      <td>36.6</td>\n",
       "      <td>102.0</td>\n",
       "      <td>120.0</td>\n",
       "      <td>80.0</td>\n",
       "      <td>0.0</td>\n",
       "    </tr>\n",
       "  </tbody>\n",
       "</table>\n",
       "</div>"
      ],
      "text/plain": [
       "   temperature  pulse  high_pressure  low_pressure  target\n",
       "0         36.6  102.0          120.0          80.0     0.0\n",
       "1         36.6  102.0          120.0          80.0     0.0"
      ]
     },
     "execution_count": 2,
     "metadata": {},
     "output_type": "execute_result"
    }
   ],
   "source": [
    "pd.DataFrame({'temperature': 36.6, 'pulse': 102, 'high_pressure': 120, 'low_pressure': 80, 'target': 0}, index=[0]).append({'temperature': 36.6, 'pulse': 102, 'high_pressure': 120, 'low_pressure': 80, 'target': 0}, ignore_index=True)"
   ]
  },
  {
   "cell_type": "code",
   "execution_count": 3,
   "id": "c0ca4e43",
   "metadata": {},
   "outputs": [
    {
     "data": {
      "text/html": [
       "<div>\n",
       "<style scoped>\n",
       "    .dataframe tbody tr th:only-of-type {\n",
       "        vertical-align: middle;\n",
       "    }\n",
       "\n",
       "    .dataframe tbody tr th {\n",
       "        vertical-align: top;\n",
       "    }\n",
       "\n",
       "    .dataframe thead th {\n",
       "        text-align: right;\n",
       "    }\n",
       "</style>\n",
       "<table border=\"1\" class=\"dataframe\">\n",
       "  <thead>\n",
       "    <tr style=\"text-align: right;\">\n",
       "      <th></th>\n",
       "      <th>temperature</th>\n",
       "      <th>pulse</th>\n",
       "      <th>high_pressure</th>\n",
       "      <th>low_pressure</th>\n",
       "      <th>target</th>\n",
       "    </tr>\n",
       "  </thead>\n",
       "  <tbody>\n",
       "    <tr>\n",
       "      <th>0</th>\n",
       "      <td>36.6</td>\n",
       "      <td>70</td>\n",
       "      <td>110</td>\n",
       "      <td>80</td>\n",
       "      <td>0</td>\n",
       "    </tr>\n",
       "  </tbody>\n",
       "</table>\n",
       "</div>"
      ],
      "text/plain": [
       "   temperature  pulse  high_pressure  low_pressure  target\n",
       "0         36.6     70            110            80       0"
      ]
     },
     "execution_count": 3,
     "metadata": {},
     "output_type": "execute_result"
    }
   ],
   "source": [
    "data = pd.DataFrame({'temperature': 36.6, 'pulse': 70, 'high_pressure': 110, 'low_pressure': 80, 'target': 0}, index=[0])\n",
    "data.head()"
   ]
  },
  {
   "cell_type": "code",
   "execution_count": 4,
   "id": "10de37f2",
   "metadata": {},
   "outputs": [],
   "source": [
    "for i in range(4_000):\n",
    "    t = round(np.random.uniform(36.1, 37.2), 1)\n",
    "    p = round(np.random.uniform(60, 100))\n",
    "    h = round(np.random.uniform(90, 120))\n",
    "    l = round(np.random.uniform(60, 90))\n",
    "    r = 0.0\n",
    "    new_data = pd.DataFrame({'temperature': t, \n",
    "                  'pulse': p, \n",
    "                  'high_pressure': h, \n",
    "                  'low_pressure': l, \n",
    "                  'target': r}, index=[data.index[-1]+1])\n",
    "    data = pd.concat([data, new_data], ignore_index=True)"
   ]
  },
  {
   "cell_type": "code",
   "execution_count": 5,
   "id": "2b9288fb",
   "metadata": {},
   "outputs": [],
   "source": [
    "for i in range(4_000):\n",
    "    t = round(np.random.uniform(37.3, 38.8), 1)\n",
    "    p = round(np.random.uniform(101, 150))\n",
    "    h = round(np.random.uniform(120, 139))\n",
    "    l = round(np.random.uniform(80, 89))\n",
    "    r = 1.0\n",
    "    new_data = pd.DataFrame({'temperature': t, \n",
    "                  'pulse': p, \n",
    "                  'high_pressure': h, \n",
    "                  'low_pressure': l, \n",
    "                  'target': r}, index=[data.index[-1]+1])\n",
    "    data = pd.concat([data, new_data], ignore_index=True)"
   ]
  },
  {
   "cell_type": "code",
   "execution_count": 6,
   "id": "44b0055e",
   "metadata": {},
   "outputs": [],
   "source": [
    "for i in range(4_000):\n",
    "    t = round(np.random.uniform(36.1, 37.2), 1)\n",
    "    p = round(np.random.uniform(140, 150))\n",
    "    h = round(np.random.uniform(121, 150))\n",
    "    l = round(np.random.uniform(91, 110))\n",
    "    r = 1.0\n",
    "    new_data = pd.DataFrame({'temperature': t, \n",
    "                  'pulse': p, \n",
    "                  'high_pressure': h, \n",
    "                  'low_pressure': l, \n",
    "                  'target': r}, index=[data.index[-1]+1])\n",
    "    data = pd.concat([data, new_data], ignore_index=True)"
   ]
  },
  {
   "cell_type": "code",
   "execution_count": 7,
   "id": "38beb1de",
   "metadata": {},
   "outputs": [],
   "source": [
    "for i in range(4_000):\n",
    "    t = round(np.random.uniform(35.2, 36.1), 1)\n",
    "    p = round(np.random.uniform(40, 59))\n",
    "    h = round(np.random.uniform(90, 120))\n",
    "    l = round(np.random.uniform(65, 79))\n",
    "    r = 1.0\n",
    "    new_data = pd.DataFrame({'temperature': t, \n",
    "                  'pulse': p, \n",
    "                  'high_pressure': h, \n",
    "                  'low_pressure': l, \n",
    "                  'target': r}, index=[data.index[-1]+1])\n",
    "    data = pd.concat([data, new_data], ignore_index=True)"
   ]
  },
  {
   "cell_type": "code",
   "execution_count": 8,
   "id": "cc4f5665",
   "metadata": {},
   "outputs": [
    {
     "data": {
      "text/plain": [
       "<Axes: >"
      ]
     },
     "execution_count": 8,
     "metadata": {},
     "output_type": "execute_result"
    },
    {
     "data": {
      "image/png": "[encoded data removed]",
      "text/plain": [
       "<Figure size 432x288 with 1 Axes>"
      ]
     },
     "metadata": {
      "needs_background": "light"
     },
     "output_type": "display_data"
    }
   ],
   "source": [
    "data['temperature'].hist()"
   ]
  },
  {
   "cell_type": "code",
   "execution_count": 9,
   "id": "c265ef9f",
   "metadata": {},
   "outputs": [
    {
     "data": {
      "text/plain": [
       "<Axes: >"
      ]
     },
     "execution_count": 9,
     "metadata": {},
     "output_type": "execute_result"
    },
    {
     "data": {
      "image/png": "[encoded data removed]",
      "text/plain": [
       "<Figure size 432x288 with 1 Axes>"
      ]
     },
     "metadata": {
      "needs_background": "light"
     },
     "output_type": "display_data"
    }
   ],
   "source": [
    "data['pulse'].hist()"
   ]
  },
  {
   "cell_type": "code",
   "execution_count": 10,
   "id": "548e14b1",
   "metadata": {},
   "outputs": [
    {
     "data": {
      "text/plain": [
       "<Axes: >"
      ]
     },
     "execution_count": 10,
     "metadata": {},
     "output_type": "execute_result"
    },
    {
     "data": {
      "image/png": "[encoded data removed]",
      "text/plain": [
       "<Figure size 432x288 with 1 Axes>"
      ]
     },
     "metadata": {
      "needs_background": "light"
     },
     "output_type": "display_data"
    }
   ],
   "source": [
    "data['high_pressure'].hist()"
   ]
  },
  {
   "cell_type": "code",
   "execution_count": 11,
   "id": "6791a67b",
   "metadata": {},
   "outputs": [
    {
     "data": {
      "text/plain": [
       "<Axes: >"
      ]
     },
     "execution_count": 11,
     "metadata": {},
     "output_type": "execute_result"
    },
    {
     "data": {
      "image/png": "[encoded data removed]",
      "text/plain": [
       "<Figure size 432x288 with 1 Axes>"
      ]
     },
     "metadata": {
      "needs_background": "light"
     },
     "output_type": "display_data"
    }
   ],
   "source": [
    "data['low_pressure'].hist()"
   ]
  },
  {
   "cell_type": "code",
   "execution_count": 12,
   "id": "0d6b0fc6",
   "metadata": {},
   "outputs": [
    {
     "data": {
      "text/plain": [
       "<Axes: >"
      ]
     },
     "execution_count": 12,
     "metadata": {},
     "output_type": "execute_result"
    },
    {
     "data": {
      "image/png": "[encoded data removed]",
      "text/plain": [
       "<Figure size 432x288 with 1 Axes>"
      ]
     },
     "metadata": {
      "needs_background": "light"
     },
     "output_type": "display_data"
    }
   ],
   "source": [
    "data['target'].hist()"
   ]
  },
  {
   "cell_type": "code",
   "execution_count": 13,
   "id": "b2fbedaf",
   "metadata": {},
   "outputs": [
    {
     "data": {
      "text/html": [
       "<div>\n",
       "<style scoped>\n",
       "    .dataframe tbody tr th:only-of-type {\n",
       "        vertical-align: middle;\n",
       "    }\n",
       "\n",
       "    .dataframe tbody tr th {\n",
       "        vertical-align: top;\n",
       "    }\n",
       "\n",
       "    .dataframe thead th {\n",
       "        text-align: right;\n",
       "    }\n",
       "</style>\n",
       "<table border=\"1\" class=\"dataframe\">\n",
       "  <thead>\n",
       "    <tr style=\"text-align: right;\">\n",
       "      <th></th>\n",
       "      <th>temperature</th>\n",
       "      <th>pulse</th>\n",
       "      <th>high_pressure</th>\n",
       "      <th>low_pressure</th>\n",
       "      <th>target</th>\n",
       "    </tr>\n",
       "  </thead>\n",
       "  <tbody>\n",
       "    <tr>\n",
       "      <th>count</th>\n",
       "      <td>16001.000000</td>\n",
       "      <td>16001.000000</td>\n",
       "      <td>16001.000000</td>\n",
       "      <td>16001.000000</td>\n",
       "      <td>16001.000000</td>\n",
       "    </tr>\n",
       "    <tr>\n",
       "      <th>mean</th>\n",
       "      <td>36.752922</td>\n",
       "      <td>100.015687</td>\n",
       "      <td>118.870821</td>\n",
       "      <td>83.006062</td>\n",
       "      <td>0.749953</td>\n",
       "    </tr>\n",
       "    <tr>\n",
       "      <th>std</th>\n",
       "      <td>0.919661</td>\n",
       "      <td>38.798235</td>\n",
       "      <td>16.053691</td>\n",
       "      <td>12.486469</td>\n",
       "      <td>0.433053</td>\n",
       "    </tr>\n",
       "    <tr>\n",
       "      <th>min</th>\n",
       "      <td>35.200000</td>\n",
       "      <td>40.000000</td>\n",
       "      <td>90.000000</td>\n",
       "      <td>60.000000</td>\n",
       "      <td>0.000000</td>\n",
       "    </tr>\n",
       "    <tr>\n",
       "      <th>25%</th>\n",
       "      <td>36.100000</td>\n",
       "      <td>60.000000</td>\n",
       "      <td>105.000000</td>\n",
       "      <td>73.000000</td>\n",
       "      <td>0.000000</td>\n",
       "    </tr>\n",
       "    <tr>\n",
       "      <th>50%</th>\n",
       "      <td>36.700000</td>\n",
       "      <td>100.000000</td>\n",
       "      <td>120.000000</td>\n",
       "      <td>82.000000</td>\n",
       "      <td>1.000000</td>\n",
       "    </tr>\n",
       "    <tr>\n",
       "      <th>75%</th>\n",
       "      <td>37.200000</td>\n",
       "      <td>142.000000</td>\n",
       "      <td>132.000000</td>\n",
       "      <td>90.000000</td>\n",
       "      <td>1.000000</td>\n",
       "    </tr>\n",
       "    <tr>\n",
       "      <th>max</th>\n",
       "      <td>38.800000</td>\n",
       "      <td>150.000000</td>\n",
       "      <td>150.000000</td>\n",
       "      <td>110.000000</td>\n",
       "      <td>1.000000</td>\n",
       "    </tr>\n",
       "  </tbody>\n",
       "</table>\n",
       "</div>"
      ],
      "text/plain": [
       "        temperature         pulse  high_pressure  low_pressure        target\n",
       "count  16001.000000  16001.000000   16001.000000  16001.000000  16001.000000\n",
       "mean      36.752922    100.015687     118.870821     83.006062      0.749953\n",
       "std        0.919661     38.798235      16.053691     12.486469      0.433053\n",
       "min       35.200000     40.000000      90.000000     60.000000      0.000000\n",
       "25%       36.100000     60.000000     105.000000     73.000000      0.000000\n",
       "50%       36.700000    100.000000     120.000000     82.000000      1.000000\n",
       "75%       37.200000    142.000000     132.000000     90.000000      1.000000\n",
       "max       38.800000    150.000000     150.000000    110.000000      1.000000"
      ]
     },
     "execution_count": 13,
     "metadata": {},
     "output_type": "execute_result"
    }
   ],
   "source": [
    "data.describe()"
   ]
  },
  {
   "cell_type": "code",
   "execution_count": 14,
   "id": "b1914406",
   "metadata": {},
   "outputs": [],
   "source": [
    "data = data.sample(frac=1)"
   ]
  },
  {
   "cell_type": "code",
   "execution_count": 15,
   "id": "53f49080",
   "metadata": {},
   "outputs": [],
   "source": [
    "from sklearn.ensemble import RandomForestClassifier\n",
    "from sklearn.model_selection import GridSearchCV\n",
    "from sklearn.metrics import accuracy_score\n",
    "\n",
    "# param_grid = {\n",
    "#     'n_estimators': [50, 100, 200],\n",
    "#     'max_depth': [5, 10, 15, 20],\n",
    "#     'min_samples_split': [2, 5, 10],\n",
    "#     'min_samples_leaf': [1, 2, 4],\n",
    "# }\n",
    "\n",
    "# x = data.drop(columns=['target'])\n",
    "# y = data['target']\n",
    "\n",
    "# rf = RandomForestClassifier(random_state=42)\n",
    "\n",
    "# grid_search = GridSearchCV(rf, param_grid, cv=5)\n",
    "\n",
    "# grid_search.fit(x, y)\n",
    "\n",
    "# print(\"Лучшие параметры:\", grid_search.best_params_)\n",
    "# print(\"Лучшее качество на кросс-валидации:\", grid_search.best_score_)"
   ]
  },
  {
   "cell_type": "code",
   "execution_count": 16,
   "id": "0d63173c",
   "metadata": {},
   "outputs": [
    {
     "data": {
      "text/plain": [
       "RandomForestClassifier(max_depth=5, n_estimators=50, random_state=42)"
      ]
     },
     "execution_count": 16,
     "metadata": {},
     "output_type": "execute_result"
    }
   ],
   "source": [
    "x = data.drop(columns=['target'])\n",
    "y = data['target']\n",
    "\n",
    "best_rf = RandomForestClassifier(max_depth=5, \n",
    "                                 min_samples_leaf=1, \n",
    "                                 min_samples_split=2, \n",
    "                                 n_estimators=50, \n",
    "                                 random_state=42)\n",
    "best_rf.fit(x, y)"
   ]
  },
  {
   "cell_type": "code",
   "execution_count": 17,
   "id": "77230059",
   "metadata": {},
   "outputs": [
    {
     "name": "stdout",
     "output_type": "stream",
     "text": [
      "Accuracy: 1.00\n"
     ]
    }
   ],
   "source": [
    "y_pred = best_rf.predict(x)\n",
    "\n",
    "accuracy = accuracy_score(y, y_pred)\n",
    "print(f'Accuracy: {accuracy:.2f}')"
   ]
  },
  {
   "cell_type": "code",
   "execution_count": 18,
   "id": "ac7181ce",
   "metadata": {},
   "outputs": [],
   "source": [
    "data.to_csv('data.csv', index=False)"
   ]
  },
  {
   "cell_type": "code",
   "execution_count": 19,
   "id": "5ad4a3a8",
   "metadata": {},
   "outputs": [
    {
     "data": {
      "text/html": [
       "<div>\n",
       "<style scoped>\n",
       "    .dataframe tbody tr th:only-of-type {\n",
       "        vertical-align: middle;\n",
       "    }\n",
       "\n",
       "    .dataframe tbody tr th {\n",
       "        vertical-align: top;\n",
       "    }\n",
       "\n",
       "    .dataframe thead th {\n",
       "        text-align: right;\n",
       "    }\n",
       "</style>\n",
       "<table border=\"1\" class=\"dataframe\">\n",
       "  <thead>\n",
       "    <tr style=\"text-align: right;\">\n",
       "      <th></th>\n",
       "      <th>temperature</th>\n",
       "      <th>pulse</th>\n",
       "      <th>high_pressure</th>\n",
       "      <th>low_pressure</th>\n",
       "      <th>target</th>\n",
       "    </tr>\n",
       "  </thead>\n",
       "  <tbody>\n",
       "    <tr>\n",
       "      <th>0</th>\n",
       "      <td>36.6</td>\n",
       "      <td>141</td>\n",
       "      <td>127</td>\n",
       "      <td>103</td>\n",
       "      <td>1.0</td>\n",
       "    </tr>\n",
       "    <tr>\n",
       "      <th>1</th>\n",
       "      <td>36.6</td>\n",
       "      <td>91</td>\n",
       "      <td>109</td>\n",
       "      <td>62</td>\n",
       "      <td>0.0</td>\n",
       "    </tr>\n",
       "    <tr>\n",
       "      <th>2</th>\n",
       "      <td>35.5</td>\n",
       "      <td>51</td>\n",
       "      <td>104</td>\n",
       "      <td>78</td>\n",
       "      <td>1.0</td>\n",
       "    </tr>\n",
       "    <tr>\n",
       "      <th>3</th>\n",
       "      <td>36.7</td>\n",
       "      <td>69</td>\n",
       "      <td>115</td>\n",
       "      <td>61</td>\n",
       "      <td>0.0</td>\n",
       "    </tr>\n",
       "    <tr>\n",
       "      <th>4</th>\n",
       "      <td>36.1</td>\n",
       "      <td>142</td>\n",
       "      <td>127</td>\n",
       "      <td>96</td>\n",
       "      <td>1.0</td>\n",
       "    </tr>\n",
       "  </tbody>\n",
       "</table>\n",
       "</div>"
      ],
      "text/plain": [
       "   temperature  pulse  high_pressure  low_pressure  target\n",
       "0         36.6    141            127           103     1.0\n",
       "1         36.6     91            109            62     0.0\n",
       "2         35.5     51            104            78     1.0\n",
       "3         36.7     69            115            61     0.0\n",
       "4         36.1    142            127            96     1.0"
      ]
     },
     "execution_count": 19,
     "metadata": {},
     "output_type": "execute_result"
    }
   ],
   "source": [
    "test = pd.read_csv('data.csv')\n",
    "test.head()"
   ]
  },
  {
   "cell_type": "code",
   "execution_count": 20,
   "id": "608d8e4b",
   "metadata": {},
   "outputs": [
    {
     "data": {
      "text/plain": [
       "array([[ 36.6, 141. , 127. , 103. ]])"
      ]
     },
     "execution_count": 20,
     "metadata": {},
     "output_type": "execute_result"
    }
   ],
   "source": [
    "np.array(x.iloc[0]).reshape(1, -1)"
   ]
  },
  {
   "cell_type": "code",
   "execution_count": 21,
   "id": "c4255fa7",
   "metadata": {},
   "outputs": [
    {
     "name": "stderr",
     "output_type": "stream",
     "text": [
      "C:\\Users\\Egor\\AppData\\Local\\Programs\\Python\\Python310\\lib\\site-packages\\sklearn\\base.py:450: UserWarning: X does not have valid feature names, but RandomForestClassifier was fitted with feature names\n",
      "  warnings.warn(\n"
     ]
    },
    {
     "data": {
      "text/plain": [
       "array([0.])"
      ]
     },
     "execution_count": 21,
     "metadata": {},
     "output_type": "execute_result"
    }
   ],
   "source": [
    "best_rf.predict(np.array([[36.6, 70., 126., 84.]]))"
   ]
  },
  {
   "cell_type": "code",
   "execution_count": 22,
   "id": "b766f377",
   "metadata": {},
   "outputs": [],
   "source": [
    "import pickle\n",
    "\n",
    "\n",
    "with open('random_forest_model.pkl', 'wb') as f:\n",
    "    pickle.dump(best_rf, f)"
   ]
  },
  {
   "cell_type": "code",
   "execution_count": null,
   "id": "e68d68bb",
   "metadata": {},
   "outputs": [
    {
     "name": "stderr",
     "output_type": "stream",
     "text": [
      "C:\\Temp\\ipykernel_3832\\3035129226.py:24: UserWarning: Failed to initialize NumPy: module compiled against API version 0x10 but this version of numpy is 0xf . Check the section C-API incompatibility at the Troubleshooting ImportError section at https://numpy.org/devdocs/user/troubleshooting-importerror.html#c-api-incompatibility for indications on how to solve this problem . (Triggered internally at ..\\torch\\csrc\\utils\\tensor_numpy.cpp:84.)\n",
      "  self.X = torch.tensor(X.values, dtype=torch.float32)\n"
     ]
    },
    {
     "name": "stdout",
     "output_type": "stream",
     "text": [
      "Epoch: 01, Train Loss: 1.3160, Train Acc: 0.7959\n",
      "Epoch: 02, Train Loss: 0.2366, Train Acc: 0.9244\n",
      "Epoch: 03, Train Loss: 0.1839, Train Acc: 0.9516\n",
      "Epoch: 04, Train Loss: 0.1533, Train Acc: 0.9567\n",
      "Epoch: 05, Train Loss: 0.1373, Train Acc: 0.9576\n",
      "Epoch: 06, Train Loss: 0.1213, Train Acc: 0.9627\n",
      "Epoch: 07, Train Loss: 0.1115, Train Acc: 0.9650\n",
      "Epoch: 08, Train Loss: 0.1048, Train Acc: 0.9645\n",
      "Epoch: 09, Train Loss: 0.1113, Train Acc: 0.9595\n",
      "Epoch: 10, Train Loss: 0.0920, Train Acc: 0.9687\n",
      "Epoch: 11, Train Loss: 0.0886, Train Acc: 0.9688\n",
      "Epoch: 12, Train Loss: 0.0831, Train Acc: 0.9713\n",
      "Epoch: 13, Train Loss: 0.0783, Train Acc: 0.9740\n",
      "Epoch: 14, Train Loss: 0.0780, Train Acc: 0.9713\n",
      "Epoch: 15, Train Loss: 0.0693, Train Acc: 0.9754\n",
      "Epoch: 16, Train Loss: 0.0690, Train Acc: 0.9750\n",
      "Epoch: 17, Train Loss: 0.0647, Train Acc: 0.9767\n",
      "Epoch: 18, Train Loss: 0.0597, Train Acc: 0.9789\n",
      "Epoch: 19, Train Loss: 0.0562, Train Acc: 0.9804\n",
      "Epoch: 20, Train Loss: 0.0529, Train Acc: 0.9826\n",
      "Epoch: 21, Train Loss: 0.0538, Train Acc: 0.9807\n",
      "Epoch: 22, Train Loss: 0.0832, Train Acc: 0.9724\n",
      "Epoch: 23, Train Loss: 0.0506, Train Acc: 0.9816\n",
      "Epoch: 24, Train Loss: 0.0443, Train Acc: 0.9854\n",
      "Epoch: 25, Train Loss: 0.0444, Train Acc: 0.9850\n",
      "Epoch: 26, Train Loss: 0.0428, Train Acc: 0.9852\n",
      "Epoch: 27, Train Loss: 0.0434, Train Acc: 0.9843\n",
      "Epoch: 28, Train Loss: 0.0431, Train Acc: 0.9839\n",
      "Epoch: 29, Train Loss: 0.0382, Train Acc: 0.9874\n",
      "Epoch: 30, Train Loss: 0.0387, Train Acc: 0.9874\n",
      "Epoch: 31, Train Loss: 0.0404, Train Acc: 0.9860\n",
      "Epoch: 32, Train Loss: 0.0375, Train Acc: 0.9864\n",
      "Epoch: 33, Train Loss: 0.0340, Train Acc: 0.9891\n",
      "Epoch: 34, Train Loss: 0.0381, Train Acc: 0.9853\n",
      "Epoch: 35, Train Loss: 0.0370, Train Acc: 0.9864\n",
      "Epoch: 36, Train Loss: 0.0341, Train Acc: 0.9873\n",
      "Epoch: 37, Train Loss: 0.0346, Train Acc: 0.9880\n",
      "Epoch: 38, Train Loss: 0.0329, Train Acc: 0.9883\n",
      "Epoch: 39, Train Loss: 0.0541, Train Acc: 0.9788\n",
      "Epoch: 40, Train Loss: 0.0311, Train Acc: 0.9888\n",
      "Epoch: 41, Train Loss: 0.0316, Train Acc: 0.9887\n"
     ]
    }
   ],
   "source": [
    "import torch.nn as nn\n",
    "\n",
    "class MyModel(nn.Module):\n",
    "    def __init__(self, input_dim, hidden_dim, output_dim):\n",
    "        super().__init__()\n",
    "        self.fc1 = nn.Linear(input_dim, hidden_dim)\n",
    "        self.fc2 = nn.Linear(hidden_dim, output_dim)\n",
    "        self.relu = nn.ReLU()\n",
    "        self.sigmoid = nn.Sigmoid()\n",
    "\n",
    "    def forward(self, x):\n",
    "        x = self.fc1(x)\n",
    "        x = self.relu(x)\n",
    "        x = self.fc2(x)\n",
    "        x = self.sigmoid(x)\n",
    "        return x\n",
    "\n",
    "    \n",
    "import torch\n",
    "from torch.utils.data import Dataset\n",
    "\n",
    "class MyDataset(Dataset):\n",
    "    def __init__(self, X, y):\n",
    "        self.X = torch.tensor(X.values, dtype=torch.float32)\n",
    "        self.y = torch.tensor(y.values, dtype=torch.float32)\n",
    "\n",
    "    def __len__(self):\n",
    "        return len(self.X)\n",
    "\n",
    "    def __getitem__(self, idx):\n",
    "        return self.X[idx], self.y[idx]\n",
    "    \n",
    "\n",
    "from torch.utils.data import DataLoader\n",
    "\n",
    "train_dataset = MyDataset(x, y)\n",
    "\n",
    "batch_size = 64\n",
    "\n",
    "train_loader = DataLoader(train_dataset, batch_size=batch_size, shuffle=True)\n",
    "\n",
    "import torch.optim as optim\n",
    "\n",
    "input_dim = 4\n",
    "hidden_dim = 32\n",
    "output_dim = 1\n",
    "\n",
    "model = MyModel(input_dim, hidden_dim, output_dim)\n",
    "\n",
    "criterion = nn.BCELoss()\n",
    "optimizer = optim.Adam(model.parameters(), lr=0.001)\n",
    "\n",
    "n_epochs = 100\n",
    "\n",
    "for epoch in range(n_epochs):\n",
    "    train_loss = 0.0\n",
    "    train_acc = 0.0\n",
    "    model.train()\n",
    "\n",
    "    for X_batch, y_batch in train_loader:\n",
    "        optimizer.zero_grad()\n",
    "\n",
    "        y_pred = model(X_batch)\n",
    "        loss = criterion(y_pred, y_batch.unsqueeze(1))\n",
    "\n",
    "        loss.backward()\n",
    "        optimizer.step()\n",
    "\n",
    "        train_loss += loss.item() * X_batch.size(0)\n",
    "        train_acc += ((y_pred > 0.5).float() == y_batch.unsqueeze(1)).sum().item()\n",
    "\n",
    "    train_loss /= len(train_loader.dataset)\n",
    "    train_acc /= len(train_loader.dataset)\n",
    "\n",
    "    print('Epoch: {:02d}, Train Loss: {:.4f}, Train Acc: {:.4f}'.format(epoch+1, train_loss, train_acc))\n"
   ]
  },
  {
   "cell_type": "code",
   "execution_count": null,
   "id": "9e9f1840",
   "metadata": {},
   "outputs": [],
   "source": [
    "model.eval()\n",
    "\n",
    "model(torch.tensor(x.values).float()).detach()"
   ]
  },
  {
   "cell_type": "code",
   "execution_count": null,
   "id": "30d47faa",
   "metadata": {},
   "outputs": [],
   "source": [
    "model.eval()\n",
    "\n",
    "model(torch.tensor(np.array([[36.6, 70., 126., 84.]])).float()).detach()"
   ]
  },
  {
   "cell_type": "code",
   "execution_count": null,
   "id": "762e07b7",
   "metadata": {},
   "outputs": [],
   "source": [
    "torch.save(model.state_dict(), 'torch_model.pth')"
   ]
  },
  {
   "cell_type": "code",
   "execution_count": null,
   "id": "a6f38e13",
   "metadata": {},
   "outputs": [],
   "source": []
  }
 ],
 "metadata": {
  "kernelspec": {
   "display_name": "Python 3 (ipykernel)",
   "language": "python",
   "name": "python3"
  },
  "language_info": {
   "codemirror_mode": {
    "name": "ipython",
    "version": 3
   },
   "file_extension": ".py",
   "mimetype": "text/x-python",
   "name": "python",
   "nbconvert_exporter": "python",
   "pygments_lexer": "ipython3",
   "version": "3.10.4"
  }
 },
 "nbformat": 4,
 "nbformat_minor": 5
}
