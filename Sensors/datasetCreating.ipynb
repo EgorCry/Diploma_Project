{
 "cells": [
  {
   "cell_type": "code",
   "execution_count": 1,
   "id": "71f1886e",
   "metadata": {},
   "outputs": [],
   "source": [
    "import pandas as pd\n",
    "import numpy as np"
   ]
  },
  {
   "cell_type": "code",
   "execution_count": 15,
   "id": "67c6aed1",
   "metadata": {},
   "outputs": [
    {
     "name": "stderr",
     "output_type": "stream",
     "text": [
      "C:\\Temp\\ipykernel_17864\\2233856258.py:1: FutureWarning: The frame.append method is deprecated and will be removed from pandas in a future version. Use pandas.concat instead.\n",
      "  pd.DataFrame({'temperature': 36.6, 'pulse': 102, 'high_pressure': 120, 'low_pressure': 80, 'target': 0}, index=[0]).append({'temperature': 36.6, 'pulse': 102, 'high_pressure': 120, 'low_pressure': 80, 'target': 0}, ignore_index=True)\n"
     ]
    },
    {
     "data": {
      "text/html": [
       "<div>\n",
       "<style scoped>\n",
       "    .dataframe tbody tr th:only-of-type {\n",
       "        vertical-align: middle;\n",
       "    }\n",
       "\n",
       "    .dataframe tbody tr th {\n",
       "        vertical-align: top;\n",
       "    }\n",
       "\n",
       "    .dataframe thead th {\n",
       "        text-align: right;\n",
       "    }\n",
       "</style>\n",
       "<table border=\"1\" class=\"dataframe\">\n",
       "  <thead>\n",
       "    <tr style=\"text-align: right;\">\n",
       "      <th></th>\n",
       "      <th>temperature</th>\n",
       "      <th>pulse</th>\n",
       "      <th>high_pressure</th>\n",
       "      <th>low_pressure</th>\n",
       "      <th>target</th>\n",
       "    </tr>\n",
       "  </thead>\n",
       "  <tbody>\n",
       "    <tr>\n",
       "      <th>0</th>\n",
       "      <td>36.6</td>\n",
       "      <td>102.0</td>\n",
       "      <td>120.0</td>\n",
       "      <td>80.0</td>\n",
       "      <td>0.0</td>\n",
       "    </tr>\n",
       "    <tr>\n",
       "      <th>1</th>\n",
       "      <td>36.6</td>\n",
       "      <td>102.0</td>\n",
       "      <td>120.0</td>\n",
       "      <td>80.0</td>\n",
       "      <td>0.0</td>\n",
       "    </tr>\n",
       "  </tbody>\n",
       "</table>\n",
       "</div>"
      ],
      "text/plain": [
       "   temperature  pulse  high_pressure  low_pressure  target\n",
       "0         36.6  102.0          120.0          80.0     0.0\n",
       "1         36.6  102.0          120.0          80.0     0.0"
      ]
     },
     "execution_count": 15,
     "metadata": {},
     "output_type": "execute_result"
    }
   ],
   "source": [
    "pd.DataFrame({'temperature': 36.6, 'pulse': 102, 'high_pressure': 120, 'low_pressure': 80, 'target': 0}, index=[0]).append({'temperature': 36.6, 'pulse': 102, 'high_pressure': 120, 'low_pressure': 80, 'target': 0}, ignore_index=True)"
   ]
  },
  {
   "cell_type": "code",
   "execution_count": 36,
   "id": "c0ca4e43",
   "metadata": {},
   "outputs": [
    {
     "data": {
      "text/html": [
       "<div>\n",
       "<style scoped>\n",
       "    .dataframe tbody tr th:only-of-type {\n",
       "        vertical-align: middle;\n",
       "    }\n",
       "\n",
       "    .dataframe tbody tr th {\n",
       "        vertical-align: top;\n",
       "    }\n",
       "\n",
       "    .dataframe thead th {\n",
       "        text-align: right;\n",
       "    }\n",
       "</style>\n",
       "<table border=\"1\" class=\"dataframe\">\n",
       "  <thead>\n",
       "    <tr style=\"text-align: right;\">\n",
       "      <th></th>\n",
       "      <th>temperature</th>\n",
       "      <th>pulse</th>\n",
       "      <th>high_pressure</th>\n",
       "      <th>low_pressure</th>\n",
       "      <th>target</th>\n",
       "    </tr>\n",
       "  </thead>\n",
       "  <tbody>\n",
       "    <tr>\n",
       "      <th>0</th>\n",
       "      <td>36.6</td>\n",
       "      <td>70</td>\n",
       "      <td>110</td>\n",
       "      <td>80</td>\n",
       "      <td>0</td>\n",
       "    </tr>\n",
       "  </tbody>\n",
       "</table>\n",
       "</div>"
      ],
      "text/plain": [
       "   temperature  pulse  high_pressure  low_pressure  target\n",
       "0         36.6     70            110            80       0"
      ]
     },
     "execution_count": 36,
     "metadata": {},
     "output_type": "execute_result"
    }
   ],
   "source": [
    "data = pd.DataFrame({'temperature': 36.6, 'pulse': 70, 'high_pressure': 110, 'low_pressure': 80, 'target': 0}, index=[0])\n",
    "data.head()"
   ]
  },
  {
   "cell_type": "code",
   "execution_count": 37,
   "id": "10de37f2",
   "metadata": {},
   "outputs": [],
   "source": [
    "for i in range(4_000):\n",
    "    t = round(np.random.uniform(36.1, 37.2), 1)\n",
    "    p = round(np.random.uniform(60, 100))\n",
    "    h = round(np.random.uniform(90, 120))\n",
    "    l = round(np.random.uniform(60, 90))\n",
    "    r = 0.0\n",
    "    new_data = pd.DataFrame({'temperature': t, \n",
    "                  'pulse': p, \n",
    "                  'high_pressure': h, \n",
    "                  'low_pressure': l, \n",
    "                  'target': r}, index=[data.index[-1]+1])\n",
    "    data = pd.concat([data, new_data], ignore_index=True)"
   ]
  },
  {
   "cell_type": "code",
   "execution_count": 40,
   "id": "2b9288fb",
   "metadata": {},
   "outputs": [],
   "source": [
    "for i in range(4_000):\n",
    "    t = round(np.random.uniform(37.3, 38.8), 1)\n",
    "    p = round(np.random.uniform(101, 150))\n",
    "    h = round(np.random.uniform(120, 139))\n",
    "    l = round(np.random.uniform(80, 89))\n",
    "    r = 1.0\n",
    "    new_data = pd.DataFrame({'temperature': t, \n",
    "                  'pulse': p, \n",
    "                  'high_pressure': h, \n",
    "                  'low_pressure': l, \n",
    "                  'target': r}, index=[data.index[-1]+1])\n",
    "    data = pd.concat([data, new_data], ignore_index=True)"
   ]
  },
  {
   "cell_type": "code",
   "execution_count": 41,
   "id": "44b0055e",
   "metadata": {},
   "outputs": [],
   "source": [
    "for i in range(4_000):\n",
    "    t = round(np.random.uniform(36.1, 37.2), 1)\n",
    "    p = round(np.random.uniform(140, 150))\n",
    "    h = round(np.random.uniform(121, 150))\n",
    "    l = round(np.random.uniform(91, 110))\n",
    "    r = 1.0\n",
    "    new_data = pd.DataFrame({'temperature': t, \n",
    "                  'pulse': p, \n",
    "                  'high_pressure': h, \n",
    "                  'low_pressure': l, \n",
    "                  'target': r}, index=[data.index[-1]+1])\n",
    "    data = pd.concat([data, new_data], ignore_index=True)"
   ]
  },
  {
   "cell_type": "code",
   "execution_count": 42,
   "id": "38beb1de",
   "metadata": {},
   "outputs": [],
   "source": [
    "for i in range(4_000):\n",
    "    t = round(np.random.uniform(35.2, 36.1), 1)\n",
    "    p = round(np.random.uniform(40, 59))\n",
    "    h = round(np.random.uniform(90, 120))\n",
    "    l = round(np.random.uniform(65, 79))\n",
    "    r = 1.0\n",
    "    new_data = pd.DataFrame({'temperature': t, \n",
    "                  'pulse': p, \n",
    "                  'high_pressure': h, \n",
    "                  'low_pressure': l, \n",
    "                  'target': r}, index=[data.index[-1]+1])\n",
    "    data = pd.concat([data, new_data], ignore_index=True)"
   ]
  },
  {
   "cell_type": "code",
   "execution_count": 46,
   "id": "cc4f5665",
   "metadata": {},
   "outputs": [
    {
     "data": {
      "text/plain": [
       "<Axes: >"
      ]
     },
     "execution_count": 46,
     "metadata": {},
     "output_type": "execute_result"
    },
    {
     "data": {
      "image/png": "[encoded data removed]",
      "text/plain": [
       "<Figure size 432x288 with 1 Axes>"
      ]
     },
     "metadata": {
      "needs_background": "light"
     },
     "output_type": "display_data"
    }
   ],
   "source": [
    "data['temperature'].hist()"
   ]
  },
  {
   "cell_type": "code",
   "execution_count": 47,
   "id": "c265ef9f",
   "metadata": {},
   "outputs": [
    {
     "data": {
      "text/plain": [
       "<Axes: >"
      ]
     },
     "execution_count": 47,
     "metadata": {},
     "output_type": "execute_result"
    },
    {
     "data": {
      "image/png": "[encoded data removed]",
      "text/plain": [
       "<Figure size 432x288 with 1 Axes>"
      ]
     },
     "metadata": {
      "needs_background": "light"
     },
     "output_type": "display_data"
    }
   ],
   "source": [
    "data['pulse'].hist()"
   ]
  },
  {
   "cell_type": "code",
   "execution_count": 48,
   "id": "548e14b1",
   "metadata": {},
   "outputs": [
    {
     "data": {
      "text/plain": [
       "<Axes: >"
      ]
     },
     "execution_count": 48,
     "metadata": {},
     "output_type": "execute_result"
    },
    {
     "data": {
      "image/png": "[encoded data removed]",
      "text/plain": [
       "<Figure size 432x288 with 1 Axes>"
      ]
     },
     "metadata": {
      "needs_background": "light"
     },
     "output_type": "display_data"
    }
   ],
   "source": [
    "data['high_pressure'].hist()"
   ]
  },
  {
   "cell_type": "code",
   "execution_count": 49,
   "id": "6791a67b",
   "metadata": {},
   "outputs": [
    {
     "data": {
      "text/plain": [
       "<Axes: >"
      ]
     },
     "execution_count": 49,
     "metadata": {},
     "output_type": "execute_result"
    },
    {
     "data": {
      "image/png": "[encoded data removed]",
      "text/plain": [
       "<Figure size 432x288 with 1 Axes>"
      ]
     },
     "metadata": {
      "needs_background": "light"
     },
     "output_type": "display_data"
    }
   ],
   "source": [
    "data['low_pressure'].hist()"
   ]
  },
  {
   "cell_type": "code",
   "execution_count": 50,
   "id": "0d6b0fc6",
   "metadata": {},
   "outputs": [
    {
     "data": {
      "text/plain": [
       "<Axes: >"
      ]
     },
     "execution_count": 50,
     "metadata": {},
     "output_type": "execute_result"
    },
    {
     "data": {
      "image/png": "[encoded data removed]",
      "text/plain": [
       "<Figure size 432x288 with 1 Axes>"
      ]
     },
     "metadata": {
      "needs_background": "light"
     },
     "output_type": "display_data"
    }
   ],
   "source": [
    "data['target'].hist()"
   ]
  },
  {
   "cell_type": "code",
   "execution_count": 51,
   "id": "b2fbedaf",
   "metadata": {},
   "outputs": [
    {
     "data": {
      "text/html": [
       "<div>\n",
       "<style scoped>\n",
       "    .dataframe tbody tr th:only-of-type {\n",
       "        vertical-align: middle;\n",
       "    }\n",
       "\n",
       "    .dataframe tbody tr th {\n",
       "        vertical-align: top;\n",
       "    }\n",
       "\n",
       "    .dataframe thead th {\n",
       "        text-align: right;\n",
       "    }\n",
       "</style>\n",
       "<table border=\"1\" class=\"dataframe\">\n",
       "  <thead>\n",
       "    <tr style=\"text-align: right;\">\n",
       "      <th></th>\n",
       "      <th>temperature</th>\n",
       "      <th>pulse</th>\n",
       "      <th>high_pressure</th>\n",
       "      <th>low_pressure</th>\n",
       "      <th>target</th>\n",
       "    </tr>\n",
       "  </thead>\n",
       "  <tbody>\n",
       "    <tr>\n",
       "      <th>count</th>\n",
       "      <td>16001.000000</td>\n",
       "      <td>16001.000000</td>\n",
       "      <td>16001.000000</td>\n",
       "      <td>16001.000000</td>\n",
       "      <td>16001.000000</td>\n",
       "    </tr>\n",
       "    <tr>\n",
       "      <th>mean</th>\n",
       "      <td>36.750341</td>\n",
       "      <td>100.110431</td>\n",
       "      <td>118.848634</td>\n",
       "      <td>82.963752</td>\n",
       "      <td>0.749953</td>\n",
       "    </tr>\n",
       "    <tr>\n",
       "      <th>std</th>\n",
       "      <td>0.917508</td>\n",
       "      <td>38.753266</td>\n",
       "      <td>15.897192</td>\n",
       "      <td>12.506926</td>\n",
       "      <td>0.433053</td>\n",
       "    </tr>\n",
       "    <tr>\n",
       "      <th>min</th>\n",
       "      <td>35.200000</td>\n",
       "      <td>40.000000</td>\n",
       "      <td>90.000000</td>\n",
       "      <td>60.000000</td>\n",
       "      <td>0.000000</td>\n",
       "    </tr>\n",
       "    <tr>\n",
       "      <th>25%</th>\n",
       "      <td>36.100000</td>\n",
       "      <td>60.000000</td>\n",
       "      <td>105.000000</td>\n",
       "      <td>73.000000</td>\n",
       "      <td>0.000000</td>\n",
       "    </tr>\n",
       "    <tr>\n",
       "      <th>50%</th>\n",
       "      <td>36.600000</td>\n",
       "      <td>100.000000</td>\n",
       "      <td>120.000000</td>\n",
       "      <td>82.000000</td>\n",
       "      <td>1.000000</td>\n",
       "    </tr>\n",
       "    <tr>\n",
       "      <th>75%</th>\n",
       "      <td>37.200000</td>\n",
       "      <td>142.000000</td>\n",
       "      <td>132.000000</td>\n",
       "      <td>90.000000</td>\n",
       "      <td>1.000000</td>\n",
       "    </tr>\n",
       "    <tr>\n",
       "      <th>max</th>\n",
       "      <td>38.800000</td>\n",
       "      <td>150.000000</td>\n",
       "      <td>150.000000</td>\n",
       "      <td>110.000000</td>\n",
       "      <td>1.000000</td>\n",
       "    </tr>\n",
       "  </tbody>\n",
       "</table>\n",
       "</div>"
      ],
      "text/plain": [
       "        temperature         pulse  high_pressure  low_pressure        target\n",
       "count  16001.000000  16001.000000   16001.000000  16001.000000  16001.000000\n",
       "mean      36.750341    100.110431     118.848634     82.963752      0.749953\n",
       "std        0.917508     38.753266      15.897192     12.506926      0.433053\n",
       "min       35.200000     40.000000      90.000000     60.000000      0.000000\n",
       "25%       36.100000     60.000000     105.000000     73.000000      0.000000\n",
       "50%       36.600000    100.000000     120.000000     82.000000      1.000000\n",
       "75%       37.200000    142.000000     132.000000     90.000000      1.000000\n",
       "max       38.800000    150.000000     150.000000    110.000000      1.000000"
      ]
     },
     "execution_count": 51,
     "metadata": {},
     "output_type": "execute_result"
    }
   ],
   "source": [
    "data.describe()"
   ]
  },
  {
   "cell_type": "code",
   "execution_count": 52,
   "id": "b1914406",
   "metadata": {},
   "outputs": [],
   "source": [
    "data = data.sample(frac=1)"
   ]
  },
  {
   "cell_type": "code",
   "execution_count": 54,
   "id": "53f49080",
   "metadata": {},
   "outputs": [
    {
     "name": "stdout",
     "output_type": "stream",
     "text": [
      "Лучшие параметры: {'max_depth': 5, 'min_samples_leaf': 1, 'min_samples_split': 2, 'n_estimators': 50}\n",
      "Лучшее качество на кросс-валидации: 1.0\n"
     ]
    }
   ],
   "source": [
    "from sklearn.ensemble import RandomForestClassifier\n",
    "from sklearn.model_selection import GridSearchCV\n",
    "from sklearn.metrics import accuracy_score\n",
    "\n",
    "param_grid = {\n",
    "    'n_estimators': [50, 100, 200],\n",
    "    'max_depth': [5, 10, 15, 20],\n",
    "    'min_samples_split': [2, 5, 10],\n",
    "    'min_samples_leaf': [1, 2, 4],\n",
    "}\n",
    "\n",
    "x = data.drop(columns=['target'])\n",
    "y = data['target']\n",
    "\n",
    "rf = RandomForestClassifier(random_state=42)\n",
    "\n",
    "grid_search = GridSearchCV(rf, param_grid, cv=5)\n",
    "\n",
    "grid_search.fit(x, y)\n",
    "\n",
    "print(\"Лучшие параметры:\", grid_search.best_params_)\n",
    "print(\"Лучшее качество на кросс-валидации:\", grid_search.best_score_)"
   ]
  },
  {
   "cell_type": "code",
   "execution_count": 55,
   "id": "0d63173c",
   "metadata": {},
   "outputs": [
    {
     "data": {
      "text/plain": [
       "RandomForestClassifier(max_depth=5, n_estimators=50, random_state=42)"
      ]
     },
     "execution_count": 55,
     "metadata": {},
     "output_type": "execute_result"
    }
   ],
   "source": [
    "best_rf = RandomForestClassifier(**grid_search.best_params_, random_state=42)\n",
    "best_rf.fit(x, y)"
   ]
  },
  {
   "cell_type": "code",
   "execution_count": 56,
   "id": "77230059",
   "metadata": {},
   "outputs": [
    {
     "name": "stdout",
     "output_type": "stream",
     "text": [
      "Accuracy: 1.00\n"
     ]
    }
   ],
   "source": [
    "y_pred = best_rf.predict(x)\n",
    "\n",
    "accuracy = accuracy_score(y, y_pred)\n",
    "print(f'Accuracy: {accuracy:.2f}')"
   ]
  },
  {
   "cell_type": "code",
   "execution_count": 59,
   "id": "ac7181ce",
   "metadata": {},
   "outputs": [],
   "source": [
    "data.to_csv('data.csv', index=False)"
   ]
  },
  {
   "cell_type": "code",
   "execution_count": 60,
   "id": "5ad4a3a8",
   "metadata": {},
   "outputs": [
    {
     "data": {
      "text/html": [
       "<div>\n",
       "<style scoped>\n",
       "    .dataframe tbody tr th:only-of-type {\n",
       "        vertical-align: middle;\n",
       "    }\n",
       "\n",
       "    .dataframe tbody tr th {\n",
       "        vertical-align: top;\n",
       "    }\n",
       "\n",
       "    .dataframe thead th {\n",
       "        text-align: right;\n",
       "    }\n",
       "</style>\n",
       "<table border=\"1\" class=\"dataframe\">\n",
       "  <thead>\n",
       "    <tr style=\"text-align: right;\">\n",
       "      <th></th>\n",
       "      <th>temperature</th>\n",
       "      <th>pulse</th>\n",
       "      <th>high_pressure</th>\n",
       "      <th>low_pressure</th>\n",
       "      <th>target</th>\n",
       "    </tr>\n",
       "  </thead>\n",
       "  <tbody>\n",
       "    <tr>\n",
       "      <th>0</th>\n",
       "      <td>37.6</td>\n",
       "      <td>103</td>\n",
       "      <td>126</td>\n",
       "      <td>84</td>\n",
       "      <td>1.0</td>\n",
       "    </tr>\n",
       "    <tr>\n",
       "      <th>1</th>\n",
       "      <td>35.8</td>\n",
       "      <td>55</td>\n",
       "      <td>118</td>\n",
       "      <td>74</td>\n",
       "      <td>1.0</td>\n",
       "    </tr>\n",
       "    <tr>\n",
       "      <th>2</th>\n",
       "      <td>37.7</td>\n",
       "      <td>103</td>\n",
       "      <td>134</td>\n",
       "      <td>88</td>\n",
       "      <td>1.0</td>\n",
       "    </tr>\n",
       "    <tr>\n",
       "      <th>3</th>\n",
       "      <td>36.2</td>\n",
       "      <td>70</td>\n",
       "      <td>106</td>\n",
       "      <td>77</td>\n",
       "      <td>0.0</td>\n",
       "    </tr>\n",
       "    <tr>\n",
       "      <th>4</th>\n",
       "      <td>37.1</td>\n",
       "      <td>86</td>\n",
       "      <td>92</td>\n",
       "      <td>65</td>\n",
       "      <td>0.0</td>\n",
       "    </tr>\n",
       "  </tbody>\n",
       "</table>\n",
       "</div>"
      ],
      "text/plain": [
       "   temperature  pulse  high_pressure  low_pressure  target\n",
       "0         37.6    103            126            84     1.0\n",
       "1         35.8     55            118            74     1.0\n",
       "2         37.7    103            134            88     1.0\n",
       "3         36.2     70            106            77     0.0\n",
       "4         37.1     86             92            65     0.0"
      ]
     },
     "execution_count": 60,
     "metadata": {},
     "output_type": "execute_result"
    }
   ],
   "source": [
    "test = pd.read_csv('data.csv')\n",
    "test.head()"
   ]
  },
  {
   "cell_type": "code",
   "execution_count": 66,
   "id": "608d8e4b",
   "metadata": {},
   "outputs": [
    {
     "data": {
      "text/plain": [
       "array([[ 37.6, 103. , 126. ,  84. ]])"
      ]
     },
     "execution_count": 66,
     "metadata": {},
     "output_type": "execute_result"
    }
   ],
   "source": [
    "np.array(x.iloc[0]).reshape(1, -1)"
   ]
  },
  {
   "cell_type": "code",
   "execution_count": 70,
   "id": "c4255fa7",
   "metadata": {},
   "outputs": [
    {
     "name": "stderr",
     "output_type": "stream",
     "text": [
      "C:\\Users\\Egor\\AppData\\Local\\Programs\\Python\\Python310\\lib\\site-packages\\sklearn\\base.py:450: UserWarning: X does not have valid feature names, but RandomForestClassifier was fitted with feature names\n",
      "  warnings.warn(\n"
     ]
    },
    {
     "data": {
      "text/plain": [
       "array([0.])"
      ]
     },
     "execution_count": 70,
     "metadata": {},
     "output_type": "execute_result"
    }
   ],
   "source": [
    "best_rf.predict(np.array([[36.6, 70., 126., 84.]]))"
   ]
  },
  {
   "cell_type": "code",
   "execution_count": 71,
   "id": "b766f377",
   "metadata": {},
   "outputs": [],
   "source": [
    "import pickle\n",
    "\n",
    "\n",
    "with open('random_forest_model.pkl', 'wb') as f:\n",
    "    pickle.dump(best_rf, f)"
   ]
  },
  {
   "cell_type": "code",
   "execution_count": 76,
   "id": "e68d68bb",
   "metadata": {},
   "outputs": [
    {
     "name": "stdout",
     "output_type": "stream",
     "text": [
      "Epoch: 01, Train Loss: 0.7042, Train Acc: 0.8027\n",
      "Epoch: 02, Train Loss: 0.2202, Train Acc: 0.9169\n",
      "Epoch: 03, Train Loss: 0.1601, Train Acc: 0.9473\n",
      "Epoch: 04, Train Loss: 0.1299, Train Acc: 0.9620\n",
      "Epoch: 05, Train Loss: 0.1127, Train Acc: 0.9683\n",
      "Epoch: 06, Train Loss: 0.0962, Train Acc: 0.9731\n",
      "Epoch: 07, Train Loss: 0.0860, Train Acc: 0.9742\n",
      "Epoch: 08, Train Loss: 0.0818, Train Acc: 0.9743\n",
      "Epoch: 09, Train Loss: 0.0750, Train Acc: 0.9766\n",
      "Epoch: 10, Train Loss: 0.0697, Train Acc: 0.9775\n"
     ]
    }
   ],
   "source": [
    "import torch.nn as nn\n",
    "\n",
    "class MyModel(nn.Module):\n",
    "    def __init__(self, input_dim, hidden_dim, output_dim):\n",
    "        super().__init__()\n",
    "        self.fc1 = nn.Linear(input_dim, hidden_dim)\n",
    "        self.fc2 = nn.Linear(hidden_dim, output_dim)\n",
    "        self.relu = nn.ReLU()\n",
    "        self.sigmoid = nn.Sigmoid()\n",
    "\n",
    "    def forward(self, x):\n",
    "        x = self.fc1(x)\n",
    "        x = self.relu(x)\n",
    "        x = self.fc2(x)\n",
    "        x = self.sigmoid(x)\n",
    "        return x\n",
    "\n",
    "    \n",
    "import torch\n",
    "from torch.utils.data import Dataset\n",
    "\n",
    "class MyDataset(Dataset):\n",
    "    def __init__(self, X, y):\n",
    "        self.X = torch.tensor(X.values, dtype=torch.float32)\n",
    "        self.y = torch.tensor(y.values, dtype=torch.float32)\n",
    "\n",
    "    def __len__(self):\n",
    "        return len(self.X)\n",
    "\n",
    "    def __getitem__(self, idx):\n",
    "        return self.X[idx], self.y[idx]\n",
    "    \n",
    "\n",
    "from torch.utils.data import DataLoader\n",
    "\n",
    "train_dataset = MyDataset(x, y)\n",
    "\n",
    "batch_size = 64\n",
    "\n",
    "train_loader = DataLoader(train_dataset, batch_size=batch_size, shuffle=True)\n",
    "\n",
    "import torch.optim as optim\n",
    "\n",
    "input_dim = 4\n",
    "hidden_dim = 32\n",
    "output_dim = 1\n",
    "\n",
    "model = MyModel(input_dim, hidden_dim, output_dim)\n",
    "\n",
    "criterion = nn.BCELoss()\n",
    "optimizer = optim.Adam(model.parameters(), lr=0.001)\n",
    "\n",
    "n_epochs = 10\n",
    "\n",
    "for epoch in range(n_epochs):\n",
    "    train_loss = 0.0\n",
    "    train_acc = 0.0\n",
    "    model.train()\n",
    "\n",
    "    for X_batch, y_batch in train_loader:\n",
    "        optimizer.zero_grad()\n",
    "\n",
    "        y_pred = model(X_batch)\n",
    "        loss = criterion(y_pred, y_batch.unsqueeze(1))\n",
    "\n",
    "        loss.backward()\n",
    "        optimizer.step()\n",
    "\n",
    "        train_loss += loss.item() * X_batch.size(0)\n",
    "        train_acc += ((y_pred > 0.5).float() == y_batch.unsqueeze(1)).sum().item()\n",
    "\n",
    "    train_loss /= len(train_loader.dataset)\n",
    "    train_acc /= len(train_loader.dataset)\n",
    "\n",
    "    print('Epoch: {:02d}, Train Loss: {:.4f}, Train Acc: {:.4f}'.format(epoch+1, train_loss, train_acc))\n"
   ]
  },
  {
   "cell_type": "code",
   "execution_count": 79,
   "id": "9e9f1840",
   "metadata": {},
   "outputs": [
    {
     "data": {
      "text/plain": [
       "tensor([[0.7564],\n",
       "        [0.9982],\n",
       "        [0.7826],\n",
       "        ...,\n",
       "        [0.0093],\n",
       "        [0.0489],\n",
       "        [0.9999]])"
      ]
     },
     "execution_count": 79,
     "metadata": {},
     "output_type": "execute_result"
    }
   ],
   "source": [
    "model.eval()\n",
    "\n",
    "model(torch.tensor(x.values).float()).detach()"
   ]
  },
  {
   "cell_type": "code",
   "execution_count": 80,
   "id": "30d47faa",
   "metadata": {},
   "outputs": [
    {
     "data": {
      "text/plain": [
       "tensor([[0.6494]])"
      ]
     },
     "execution_count": 80,
     "metadata": {},
     "output_type": "execute_result"
    }
   ],
   "source": [
    "model.eval()\n",
    "\n",
    "model(torch.tensor(np.array([[36.6, 70., 126., 84.]])).float()).detach()"
   ]
  },
  {
   "cell_type": "code",
   "execution_count": 81,
   "id": "762e07b7",
   "metadata": {},
   "outputs": [],
   "source": [
    "torch.save(model.state_dict(), 'torch_model.pth')"
   ]
  },
  {
   "cell_type": "code",
   "execution_count": null,
   "id": "a6f38e13",
   "metadata": {},
   "outputs": [],
   "source": []
  }
 ],
 "metadata": {
  "kernelspec": {
   "display_name": "Python 3 (ipykernel)",
   "language": "python",
   "name": "python3"
  },
  "language_info": {
   "codemirror_mode": {
    "name": "ipython",
    "version": 3
   },
   "file_extension": ".py",
   "mimetype": "text/x-python",
   "name": "python",
   "nbconvert_exporter": "python",
   "pygments_lexer": "ipython3",
   "version": "3.10.4"
  }
 },
 "nbformat": 4,
 "nbformat_minor": 5
}
